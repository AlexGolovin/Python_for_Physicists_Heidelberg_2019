{
 "cells": [
  {
   "cell_type": "markdown",
   "metadata": {},
   "source": [
    "# Exercise - `scipy`: fitting a function"
   ]
  },
  {
   "cell_type": "markdown",
   "metadata": {},
   "source": [
    "## Temperature of the cosmic microwave background"
   ]
  },
  {
   "cell_type": "markdown",
   "metadata": {
    "collapsed": true
   },
   "source": [
    "The file [data/Cobe.txt](data/Cobe.txt) contains data from the [COBE satellite](http://lambda.gsfc.nasa.gov/product/cobe/). It shows the spectrum of the cosmic microwave background. The first row gives the\n",
    "frequency (actually the inverse of the wavelength in 1/cm), the second row the spectrum in MJy/sr (MJy:\n",
    "Mega-Jansky, 1 Jy= $10^{-26}$ W/Hz m2 ; sr: Steradian), so it is a measure of the spectral flux per solid\n",
    "angle. The third row shows the uncertainty on the spectrum in kJy/sr.\n",
    "Use `scipy.optimize.curve_fit` to perform a fit to the data. The function that describing the data is the Planck law\n",
    "$f(x) = \\frac{A_0 x3}{exp(1.439x/T )-1}$, where $x$ is the frequency in 1/cm. $A_0$ and $T$ are the fit parameters, where $A_0$ is the amplitude and $T$ the temperature of the universe. The factor 1.439 K cm comes from $hc/k_B$ in the chosen unit frame. So you can determine from the fit, how hot the universe is. "
   ]
  },
  {
   "cell_type": "markdown",
   "metadata": {},
   "source": [
    "- Read in the data and plot the data with their errorbars\n",
    "- Fit the Planck function $f(x)$ to the data and determine the temperature of the Universe.\n",
    "- Include a plot of the best-fit curve in the errorbar-plot."
   ]
  },
  {
   "cell_type": "code",
   "execution_count": null,
   "metadata": {},
   "outputs": [],
   "source": [
    "# your solution here"
   ]
  },
  {
   "cell_type": "markdown",
   "metadata": {},
   "source": [
    "## Random Walk"
   ]
  },
  {
   "cell_type": "markdown",
   "metadata": {},
   "source": [
    "We consider the one dimensional random walk. Starting from $x=0$ we walk in each time step a random step to the left or to the right with equal propability. We would like to estimate the quantities $\\langle d(t)\\rangle$ and $\\langle d(t)^2\\rangle$, where $d(t)$ is the distance from the origin at tine $t$:"
   ]
  },
  {
   "cell_type": "markdown",
   "metadata": {},
   "source": [
    "<img src=\"figs/random_walk.png\" style=\"width: 300px;\" style=\"height: 200px;\">"
   ]
  },
  {
   "cell_type": "markdown",
   "metadata": {},
   "source": [
    "We will obtain the desired quantities by simulating 1000 walkers and 200 time steps.\n",
    "- Create a two-dimensional array with the walking stories of each worker in one direction and time in the other (see left side of the following figure).\n",
    "\n",
    "  **Hint:** The function `np.random.randint` allows you directly to create a 2D-array of random numbers)\n",
    "- Use the created array to obtain another array containing $d(t)$ for each walker ($d(t)$ is just the cumulated sum of the individual steps; see right side of the following figure).\n",
    "\n",
    "  **Hint:** Application of the `np.cumsum` function along the time-axis.\n",
    " \n",
    "- Obtain $\\langle d(t)\\rangle$ and $\\langle d(t)^2\\rangle$ and plot the quantities.\n",
    "\n",
    "  **Hint:** Application of the `np.mean` function along the stories-axis."
   ]
  },
  {
   "cell_type": "markdown",
   "metadata": {},
   "source": [
    "<img src=\"figs/random_walk_schema.png\" style=\"width: 600px;\" style=\"height: 300px;\">"
   ]
  },
  {
   "cell_type": "code",
   "execution_count": null,
   "metadata": {},
   "outputs": [],
   "source": [
    "# your solution here"
   ]
  }
 ],
 "metadata": {
  "kernelspec": {
   "display_name": "Python 3",
   "language": "python",
   "name": "python3"
  },
  "language_info": {
   "codemirror_mode": {
    "name": "ipython",
    "version": 3
   },
   "file_extension": ".py",
   "mimetype": "text/x-python",
   "name": "python",
   "nbconvert_exporter": "python",
   "pygments_lexer": "ipython3",
   "version": "3.7.3"
  }
 },
 "nbformat": 4,
 "nbformat_minor": 1
}
