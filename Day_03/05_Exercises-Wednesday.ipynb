{
 "cells": [
  {
   "cell_type": "markdown",
   "metadata": {},
   "source": [
    "# Exercises - Functions and Containers"
   ]
  },
  {
   "cell_type": "markdown",
   "metadata": {},
   "source": [
    "## Conversions between the binary and the decimal system"
   ]
  },
  {
   "cell_type": "markdown",
   "metadata": {},
   "source": [
    "We discussed different systems to represent numbers. To represent a natural number $n$ in a base $b$, we have\n",
    "$$\n",
    "n = \\sum_{i=0}^m q_i b^i\n",
    "$$\n",
    "with $0\\leq q_i < b$. In our daily life, we use $b=10$ (decimal system), whereas computers internally work with $b=2$ (binary numbers).\n",
    "\n",
    "Your task is to write a Python-functions to convert a given positive integer number between the binary and the decimal systems.\n",
    "\n",
    "An algorithm to perform the decimal $\\to$ binary direction is as follows: *start with the integer in question and divide it by 2 keeping notice of the quotient and the remainder. Continue dividing the quotient by 2 until you get a quotient of zero. Then just write out the remainders in the reverse order.*\n",
    "\n",
    "Here is an example of such conversion using the integer 12. \n",
    "First, let’s divide the number by two specifying quotient and remainder:\n",
    "$$\n",
    "\\begin{eqnarray}\n",
    " 12 : 2 & = & 6 + 0 \\\\\n",
    " 6 : 2 & = & 3 + 0 \\\\\n",
    " 3 : 2 & = & 1 + 1 \\\\\n",
    " 1 : 2 & = & 0 + 1 \\\\\n",
    "\\end{eqnarray}\n",
    "$$\n",
    "Now, we simply need to write out the remainder in the reverse order — 1100. So, 12 in decimal system is represented as 1100 in binary.\n",
    "\n",
    "Your tasks:\n",
    "1. Implement a function `dec2binary` that accepts a positive integer as argument and returns its binary representation *as a string*  - **please** check the hints below before you start!\n",
    "2. Verify your function with the following test cases: $0\\rightarrow 0$, $2\\rightarrow 10$, $15\\rightarrow 1111$, $170 \\rightarrow 10101010$, $123456789 \\rightarrow 111010110111100110100010101$.\n",
    "3. Implement a function `binary2dec` which takes a binary number (represented as a string) as argument and returns the decimal equivalent as integer. This can be done using the defining equation above.\n",
    "4. verify that your functions fulfil the relations `x == binary2dec(dec2binary(x))` and `b = dec2binary(binary2dec(b))`.\n",
    "\n",
    "**Hints for `dec2binary`:**\n",
    "1. See for instance [this website](https://blog.angularindepth.com/the-simple-math-behind-decimal-binary-conversion-algorithms-d30c967c9724) if you are interested to learn how/why the algorithm works.\n",
    "2. Use a `while`-loop to perform necessary divisions.\n",
    "3. To obtain the quotient and the remainder of a division with one expression, you can use the function ``divmod``.\n",
    "4. You can represent the binary-number and build it up within your loop in a string - see the next cell!"
   ]
  },
  {
   "cell_type": "code",
   "execution_count": null,
   "metadata": {},
   "outputs": [],
   "source": [
    "# 1. remember that you can convert an integer to a string with the 'str'-function!\n",
    "# 2. strings can be 'concatenated' with the '+'-operator\n",
    "\n",
    "n1 = 1  # 1 as integer\n",
    "n2 = 0  # 0 as integer\n",
    "number = n1 + n2  # simple integer addition\n",
    "binary_number = str(n1) + str(n2) # the '+'-operator on strings 'concatenates them'\n",
    "print(number, binary_number)"
   ]
  },
  {
   "cell_type": "code",
   "execution_count": null,
   "metadata": {},
   "outputs": [],
   "source": [
    "# your solution here"
   ]
  },
  {
   "cell_type": "markdown",
   "metadata": {},
   "source": [
    "## Word doubling\n",
    "\n",
    "This exercise results in a very practical program that you can use when writing your thesis, a reasearch paper or another, longer text.\n",
    "\n",
    "When writing a text, we often make the mistake to repeat a word.\n",
    "\n",
    "   ```\n",
    "   When typing longer texts, we often often make the mistake to\n",
    "   repeat individual words such as here here.\n",
    "\n",
    "   ```\n",
    "   \n",
    "Write a program which reads a text file and marks positions with such mistakes. You should print lines and linenumbers with double words. Consider also cases where a word doubling occurs directly before and after a line break.\n",
    "\n",
    "You can find a short example text for test purposes [here](data/double_words.txt).\n",
    "\n",
    "**Note:**\n",
    "An obvious ansatz for the problem is to read a line, to split it according to spaces, tabulators and line breaks and to perform the double word test. This, however is no complete solution to the problem! Consider again the above example:\n",
    "\n",
    "   ```\n",
    "   ... such as here here.\n",
    "   ```\n",
    "   \n",
    "The double word `here` would not be recognised because the second one is directly followed by a dot (end of sentence mark). There are similar issues with other punctuation marks such as semicolons, parentheses and so on. See the following cell for a possibility to take this into account.\n",
    "\n",
    "**Example:** The [example text](data/double_words.txt) gives the follwing output with my code:\n",
    "```\n",
    "Repetition in line 1. Word \"often\" at position 6!\n",
    "Repetition in line 2. Word \"here\" at position 6!\n",
    "Repetition of the first word \"words\" on line 5. It occured at the end of the previous (non-empty) line!\n",
    "Repetition of the first word \"test\" on line 9. It occured at the end of the previous (non-empty) line!\n",
    "\n",
    "```"
   ]
  },
  {
   "cell_type": "code",
   "execution_count": null,
   "metadata": {},
   "outputs": [],
   "source": [
    "# example to split a string into words taking into account\n",
    "# (removing) punctuation.\n",
    "# For time reasons, we will not treat 'regular expressions' in class\n",
    "# but you should look them up yourself!\n",
    "\n",
    "import re # module to handle regular expressions in a Python program\n",
    "\n",
    "s = \"Here some text with double double words words. It also contains puctuation!\"\n",
    "\n",
    "# split s into its words without the punctuation marks; note that\n",
    "# you might end up with empty strings in the word list!\n",
    "words = re.split('\\W+', s.rstrip())\n",
    "\n",
    "# we remove empty strings from the word list:\n",
    "words_clean = [word for word in words if word != \"\" ]\n",
    "\n",
    "print(words, words_clean)"
   ]
  },
  {
   "cell_type": "code",
   "execution_count": null,
   "metadata": {},
   "outputs": [],
   "source": [
    "# your solution here"
   ]
  }
 ],
 "metadata": {
  "kernelspec": {
   "display_name": "Python 3",
   "language": "python",
   "name": "python3"
  },
  "language_info": {
   "codemirror_mode": {
    "name": "ipython",
    "version": 3
   },
   "file_extension": ".py",
   "mimetype": "text/x-python",
   "name": "python",
   "nbconvert_exporter": "python",
   "pygments_lexer": "ipython3",
   "version": "3.7.3"
  }
 },
 "nbformat": 4,
 "nbformat_minor": 1
}
