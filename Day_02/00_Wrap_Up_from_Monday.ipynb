{
 "cells": [
  {
   "cell_type": "markdown",
   "metadata": {},
   "source": [
    "# Wrap-Up from Monday"
   ]
  },
  {
   "cell_type": "markdown",
   "metadata": {},
   "source": [
    "## Proper `python`-version on the CIP-pool"
   ]
  },
  {
   "cell_type": "markdown",
   "metadata": {},
   "source": [
    "To initialise the proper `python`-version on the CIP-pool computers, you need to add the line\n",
    "```\n",
    "source /data/anaconda3/anaconda.sh\n",
    "```\n",
    "at the end of your `.bashrc` shell-initialisation file.\n",
    "\n",
    "**Please ask me of you have problems with this!**"
   ]
  },
  {
   "cell_type": "markdown",
   "metadata": {},
   "source": [
    "## Basic `Unix/Linux`-knowledge\n",
    "You should get familiar with very basic commands and work-flows on the `Unix`-shell (directory and file-handling, shell configuration etc.). Very good staring points are:\n",
    "\n",
    "[The Unix-shell](https://swcarpentry.github.io/shell-novice/) and [Extra Unix-shell material](https://swcarpentry.github.io/shell-extras/)"
   ]
  },
  {
   "cell_type": "markdown",
   "metadata": {},
   "source": [
    "## Several languages in a `Jupyter`-notebook"
   ]
  },
  {
   "cell_type": "markdown",
   "metadata": {},
   "source": [
    "Here are some linke on how to use several languages (`python`, `R`, `C`, `Julia`) in a notebook\n",
    "\n",
    "[I python ,you R, we julia](https://blog.jupyter.org/i-python-you-r-we-julia-baf064ca1fb6?gi=cf70a6142a37) and [Jupyter multi-language-demo](https://github.com/binder-examples/multi-language-demo)"
   ]
  }
 ],
 "metadata": {
  "kernelspec": {
   "display_name": "Python 3",
   "language": "python",
   "name": "python3"
  },
  "language_info": {
   "codemirror_mode": {
    "name": "ipython",
    "version": 3
   },
   "file_extension": ".py",
   "mimetype": "text/x-python",
   "name": "python",
   "nbconvert_exporter": "python",
   "pygments_lexer": "ipython3",
   "version": "3.7.3"
  }
 },
 "nbformat": 4,
 "nbformat_minor": 2
}
