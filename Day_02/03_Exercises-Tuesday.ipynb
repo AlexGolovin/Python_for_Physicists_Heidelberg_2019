{
 "cells": [
  {
   "cell_type": "markdown",
   "metadata": {},
   "source": [
    "Exercises - First Python programs\n",
    "================================="
   ]
  },
  {
   "cell_type": "markdown",
   "metadata": {},
   "source": [
    "## Approximation of $\\pi$ with the Wallis product"
   ]
  },
  {
   "cell_type": "markdown",
   "metadata": {},
   "source": [
    "$\\pi$ cn be approximated with the infinite product\n",
    "$$\\pi = 2\\prod_{i=1}^{\\infty}\\frac{4i^2}{4i^2-1}$$\n",
    "Write a Python program which approximates $\\pi$ by the finite products\n",
    "$$\\pi = 2\\prod_{i=1}^{n}\\frac{4i^2}{4i^2-1}$$\n",
    "with $n\\in \\{50, 100, 1000, 10000, 20000\\}$ and compare the results with the value $\\pi\\approx 3.1415926$.\n"
   ]
  },
  {
   "cell_type": "code",
   "execution_count": null,
   "metadata": {
    "collapsed": true
   },
   "outputs": [],
   "source": [
    "# Your solution here"
   ]
  },
  {
   "cell_type": "markdown",
   "metadata": {},
   "source": [
    "# Machine epsilon\n",
    "In class we talked about inaccuracies that occur in a computer when performing operations with floating-point numbers. Please have a look at the [Wikipedia article on the machine epsilon](https://en.wikipedia.org/wiki/Machine_epsilon). \n",
    "\n",
    "The *machine epsilon* is defined as the smallest number $\\epsilon_m$ such that $1.0 + \\epsilon_m > 1.0$. According to the Wikipedia article, it can be estimated up to a factor of two with the algorithm:\n",
    "\n",
    "```\n",
    "epsilon = 1.0;\n",
    "\n",
    "while (1.0 + 0.5 * epsilon) > 1.0:\n",
    "    epsilon = 0.5 * epsilon\n",
    "\n",
    "```\n",
    "Use this algorithm to determine the *machine epsilon* of the Python-float type. Which float-type is used in Python (see the table of the Wikipedia article)?"
   ]
  },
  {
   "cell_type": "code",
   "execution_count": null,
   "metadata": {},
   "outputs": [],
   "source": [
    "# Your solution here"
   ]
  },
  {
   "cell_type": "markdown",
   "metadata": {},
   "source": [
    "## What is going on?\n",
    "\n",
    "Consider the sequence\n",
    "$$\n",
    "E_n=\\int_0^1x^n\\exp(x-1)\\,\\mathrm{d}x; \\qquad n=1,2,\\dots\n",
    "$$\n",
    "One can show that it converges to zero: $\\lim_{n\\to\\infty}E_n=0$. Integrating by parts, we obtain the following relation between two consecutive elements:\n",
    "$$\n",
    "E_n = 1-nE_{n-1} \\text{ with } E_1=1-\\int_0^1\\exp(x-1)\\,\\mathrm{d}x=\\exp(-1).\n",
    "$$\n",
    "We want to estimate $E_{20}$. Do this by computing and printing the first 20 elements of the series. Obtain a second estimate of $E_{20}$ by reverting the relation:\n",
    "$$\n",
    "  E_{n-1} = \\frac 1n (1-E_{n}) \\text{ with } E_{50} = 0\n",
    "$$\n",
    "and printing the elements $E_{50}, E_{49}, \\dots, E_{20}$.\n",
    "\n",
    "What do you observe? Perform an experiment that shows which of the results is the correct one. Can you explain, why one of the results is wrong and the other one correct?\n",
    "\n",
    "**Hint:** Assume that in the first case, $E_1$ is represented internally as a float number with an error, i.e. $E_1 = E^t_1 + \\epsilon$, where $E^t_1$ is the true value and $\\epsilon$ the error. We know that $\\epsilon\\approx 10^{-18}$ for `Python` float numbers. What happens to $\\epsilon$ when you calculate new elements of the series?  "
   ]
  },
  {
   "cell_type": "code",
   "execution_count": null,
   "metadata": {},
   "outputs": [],
   "source": [
    "# your solution here"
   ]
  },
  {
   "cell_type": "markdown",
   "metadata": {},
   "source": [
    "## Chicken McNuggets\n",
    "Mc Donalds sells its Chicken McNuggets in packages of 6, 9 and 20 pieces. Write a ```python``` program which tests for a given number $N$, whether $N$ nuggets can be bought. Your program should print *all* possible package combinations in which the $N$ nuggets can be obtained (e.g. 60 nuggets can be bought with 3 packages of 20 pieces, 10 packages of 6 pieces and three more combinations). Print a corresponding message if the $N$ nuggets cannot be bought! \n",
    "\n",
    "**Hints:**\n",
    "- This is a *brute force* problem. It means that you need to find the solutions by trying *all possibilities*. One approach is the following: Write three nested `while` loops iterating over the variables `m`, `n` and `o`. The variables represent the number of packages with corresponding pieces. `m` stands for the number of packages with 6 nuggets and so on. Within the innermost loop, you can check with an `if`-statement such as\n",
    "```\n",
    "if (6 * m + 9 * n + 20 * o == N:\n",
    "    print('possible solution found ....')\n",
    "```\n",
    "whether your current combination of `(m, n, o)` is a solution top the problem. You now only need to find ieration limits for `m`, `n` and `o` to solve the task. \n",
    "\n",
    "- For $N=60$, you should find the following solutions for `(m * 6, n * 9, o * 20)`: `(0, 0, 3)`, `(1, 6, 0)`, `(4, 4, 0)`, `(7, 2, 0)`, `(10, 0, 0)`"
   ]
  },
  {
   "cell_type": "code",
   "execution_count": null,
   "metadata": {
    "collapsed": true
   },
   "outputs": [],
   "source": [
    "# your solution here"
   ]
  }
 ],
 "metadata": {
  "kernelspec": {
   "display_name": "Python 3",
   "language": "python",
   "name": "python3"
  },
  "language_info": {
   "codemirror_mode": {
    "name": "ipython",
    "version": 3
   },
   "file_extension": ".py",
   "mimetype": "text/x-python",
   "name": "python",
   "nbconvert_exporter": "python",
   "pygments_lexer": "ipython3",
   "version": "3.7.3"
  }
 },
 "nbformat": 4,
 "nbformat_minor": 1
}
