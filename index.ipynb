{
 "cells": [
  {
   "cell_type": "markdown",
   "metadata": {},
   "source": [
    "# Heidelberg 2019 Graduate Days `Python`-lectures"
   ]
  },
  {
   "cell_type": "markdown",
   "metadata": {},
   "source": [
    "- Please check [this link](https://github.com/terben/Python_for_Physicists_Heidelberg_2019/tree/master/computer_setup) on necessary setup on your own desktop/laptop computer"
   ]
  },
  {
   "cell_type": "markdown",
   "metadata": {},
   "source": [
    "- Please check [this link](https://github.com/terben/Python_for_Physicists_Heidelberg_2019/tree/master/obtain_and_use_materials) on how to download and use the materials on your own laptop"
   ]
  },
  {
   "cell_type": "markdown",
   "metadata": {},
   "source": [
    "## Lecture materials for Monday, 08.04.2019"
   ]
  },
  {
   "cell_type": "markdown",
   "metadata": {},
   "source": [
    "[01 Introduction - Why Python](Day_01/01_Introduction_why_python.ipynb)\n",
    "\n",
    "[02 Python Examples](Day_01/02_Python_examples.ipynb)\n",
    "\n",
    "[03 Python: How to run code](Day_01/03_How_to_run_Python_code.ipynb)\n",
    "\n",
    "[04 Jupyter Notebook: Introduction](Day_01/04_Using_the_Jupyter_notebook.ipynb)\n",
    "\n",
    "[05 Jupyter Notebook: Advanced usage](Day_01/05_More_on_the_Jupyter_Notebook.ipynb)\n",
    "\n",
    "[06 Exercises](Day_01/06_Exercises-Monday.html)"
   ]
  },
  {
   "cell_type": "markdown",
   "metadata": {},
   "source": [
    "## Lecture materials for Tuesday, 09.04.2019"
   ]
  },
  {
   "cell_type": "markdown",
   "metadata": {},
   "source": [
    "[00 Wrap Up from Monday](Day_02/00_Wrap_Up_from_Monday.ipynb)\n",
    "\n",
    "[01 Python - Basic Types](Day_02/01_basic_types_in_python.ipynb)\n",
    "\n",
    "[02 Python - Basic Control Structures](Day_02/02_basic_control_structures_in_python.ipynb)\n",
    "\n",
    "[03 Exercises](Day_02/03_Exercises-Tuesday.ipynb)"
   ]
  },
  {
   "cell_type": "markdown",
   "metadata": {},
   "source": [
    "## Lecture materials for Wednesday, 10.04.2019"
   ]
  },
  {
   "cell_type": "markdown",
   "metadata": {},
   "source": [
    "coming soon ..."
   ]
  },
  {
   "cell_type": "markdown",
   "metadata": {},
   "source": [
    "## Lecture materials for Thursday, 11.04.2019"
   ]
  },
  {
   "cell_type": "markdown",
   "metadata": {},
   "source": [
    "coming soon ..."
   ]
  },
  {
   "cell_type": "markdown",
   "metadata": {},
   "source": [
    "## Lecture materials for Friday, 12.04.2019"
   ]
  },
  {
   "cell_type": "markdown",
   "metadata": {},
   "source": [
    "coming soon ..."
   ]
  }
 ],
 "metadata": {
  "kernelspec": {
   "display_name": "Python 3",
   "language": "python",
   "name": "python3"
  },
  "language_info": {
   "codemirror_mode": {
    "name": "ipython",
    "version": 3
   },
   "file_extension": ".py",
   "mimetype": "text/x-python",
   "name": "python",
   "nbconvert_exporter": "python",
   "pygments_lexer": "ipython3",
   "version": "3.7.3"
  }
 },
 "nbformat": 4,
 "nbformat_minor": 2
}
