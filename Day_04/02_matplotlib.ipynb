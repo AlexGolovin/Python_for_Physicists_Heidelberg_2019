{
 "cells": [
  {
   "cell_type": "markdown",
   "metadata": {},
   "source": [
    "# Matplotlib\n",
    "Matplotlib is the Python plotting module based on `numpy`-arrays. It offers numerous possibilities from *quick-look* 2D and 3D data visualizations up to publication-quality figures in many varieties. I will only cover some fundamental concepts here.\n",
    "\n",
    "\n",
    "The best way to explore its possibilities and to widen your knowledge is to read relevant parts of the [matplotlib guide](http://matplotlib.org/users/beginner.html) and to look at examples at \n",
    "[The matplotlib Gallery](http://matplotlib.org/gallery.html#)."
   ]
  },
  {
   "cell_type": "code",
   "execution_count": null,
   "metadata": {},
   "outputs": [],
   "source": [
    "%matplotlib inline\n",
    "# The line above gives plots interactive capabilities\n",
    "import matplotlib.pyplot as plt\n",
    "import numpy as np\n",
    "\n",
    "# matplotlib plots numpy-arrays:\n",
    "x = np.linspace(-np.pi, np.pi, 50)\n",
    "c = np.cos(x)\n",
    "s = np.sin(x)\n",
    "\n",
    "plt.plot(x, c)\n",
    "plt.plot(x, s)\n",
    "# plt.show() or plt.save() in scripts!"
   ]
  },
  {
   "cell_type": "markdown",
   "metadata": {},
   "source": [
    "In the following example I show some possibilities to influence the plot. You can play with it and explore further possibilities!"
   ]
  },
  {
   "cell_type": "code",
   "execution_count": null,
   "metadata": {},
   "outputs": [],
   "source": [
    "%matplotlib inline\n",
    "import numpy as np\n",
    "import matplotlib\n",
    "import matplotlib.pyplot as plt\n",
    "\n",
    "# font size of labels etc,\n",
    "#matplotlib.rcParams['font.size'] = 18\n",
    "# line width of coordinate axes\n",
    "#matplotlib.rcParams['axes.linewidth'] = 2.0\n",
    "\n",
    "# matplotlib plots numpy-arrays:\n",
    "x = np.linspace(-np.pi, np.pi, 50)\n",
    "c = np.cos(x)\n",
    "s = np.sin(x)\n",
    "\n",
    "# Create a figure of size 8x6 inches, 80 dots per inch\n",
    "plt.figure(figsize=(8, 6))\n",
    "\n",
    "# Plot cosine with a blue continuous line of width 1 (pixels)\n",
    "plt.plot(x, c, color=\"blue\", linestyle=\"-\", linewidth=2.0, label=\"cos(x)\")\n",
    "\n",
    "# Plot sine with a green dashed line of width 2 (pixels)\n",
    "plt.plot(x, s, 'g--', linewidth=2.0, label=\"sin(x)\")\n",
    "\n",
    "# the labels only appear when you call plt.legend()\n",
    "# locate the legend on the upper left part of the plot\n",
    "plt.legend(loc='upper left')\n",
    "\n",
    "# x- and y-labels\n",
    "plt.xlabel('x')\n",
    "plt.ylabel('y')\n",
    "\n",
    "# Set x limits (fixed limits)\n",
    "plt.xlim(-np.pi, np.pi)\n",
    "\n",
    "# Set x ticks\n",
    "plt.xticks(np.linspace(-np.pi, np.pi, 9, endpoint=True))\n",
    "\n",
    "# nicer x-ticks with LaTeX labels!\n",
    "#plt.xticks([-np.pi, -np.pi/2, 0, np.pi/2, np.pi],\n",
    "#          [r'$-\\pi$', r'$-\\pi/2$', r'$0$', r'$+\\pi/2$', r'$+\\pi$'])\n",
    "\n",
    "# Set y limits (get limits from data)\n",
    "plt.ylim(c.min(), c.max())\n",
    "\n",
    "# Set y ticks\n",
    "plt.yticks(np.linspace(-1, 1, 5, endpoint=True))\n",
    "\n",
    "# Set a title\n",
    "plt.title(\"trigonometric functions\", y=1.02)\n",
    "\n",
    "# Save figure as pdf with a tight bounding box (LaTeX-plots)\n",
    "plt.savefig(\"figs/trigon.pdf\", bounding_box=\"tight\")"
   ]
  },
  {
   "cell_type": "markdown",
   "metadata": {},
   "source": [
    "## Common 2D-plots"
   ]
  },
  {
   "cell_type": "markdown",
   "metadata": {},
   "source": [
    "### Histograms"
   ]
  },
  {
   "cell_type": "code",
   "execution_count": null,
   "metadata": {},
   "outputs": [],
   "source": [
    "import numpy as np\n",
    "import numpy.random as nr\n",
    "import matplotlib.pyplot as plt\n",
    "\n",
    "n = nr.normal(scale=2.0, size=1000)\n",
    "\n",
    "# plot histogram with 20 bins\n",
    "plt.hist(n, bins=20)"
   ]
  },
  {
   "cell_type": "markdown",
   "metadata": {},
   "source": [
    "## Scatter plot"
   ]
  },
  {
   "cell_type": "code",
   "execution_count": null,
   "metadata": {},
   "outputs": [],
   "source": [
    "import numpy as np\n",
    "import numpy.random as nr\n",
    "import matplotlib.pyplot as plt\n",
    "\n",
    "x = nr.random_sample(20) * 2.0\n",
    "y = nr.random_sample(20) * 2.0\n",
    "\n",
    "# scatter plot\n",
    "plt.scatter(x, y)\n"
   ]
  },
  {
   "cell_type": "markdown",
   "metadata": {},
   "source": [
    "## Different ways to use matplotlib"
   ]
  },
  {
   "cell_type": "markdown",
   "metadata": {},
   "source": [
    "### Object oriented way"
   ]
  },
  {
   "cell_type": "markdown",
   "metadata": {},
   "source": [
    "In our examples we gave *global* plotting commands and added figure features according to available elements of matplotlib. It is possible to finetune and *micro-manage* figures with a more *object-oriented arroach*. I only show this here for demonstartion purposes. You recognize the object-oriented approach if pyplot commands are stored within variables."
   ]
  },
  {
   "cell_type": "code",
   "execution_count": null,
   "metadata": {},
   "outputs": [],
   "source": [
    "%matplotlib inline\n",
    "import matplotlib.pyplot as plt\n",
    "import numpy as np\n",
    "\n",
    "x = np.linspace(0, 5, 10)\n",
    "y = x ** 2\n",
    "\n",
    "# Here we create a figure from scratch and define two axis grids within\n",
    "# the figure:\n",
    "fig = plt.figure()\n",
    "\n",
    "axes1 = fig.add_axes([0.1, 0.1, 0.8, 0.8]) # main axes\n",
    "axes2 = fig.add_axes([0.2, 0.5, 0.4, 0.3]) # inset axes\n",
    "\n",
    "# main figure\n",
    "\n",
    "axes1.plot(x, y, 'r')\n",
    "axes1.set_xlabel('x')\n",
    "axes1.set_ylabel('y')\n",
    "axes1.set_title('title')\n",
    "\n",
    "# insert\n",
    "axes2.plot(y, x, 'g')\n",
    "axes2.set_xlabel('y')\n",
    "axes2.set_ylabel('x')\n",
    "axes2.set_title('insert title');"
   ]
  },
  {
   "cell_type": "markdown",
   "metadata": {},
   "source": [
    "### MATLAB-style\n",
    "The `pylab`-module unifies the namespaces of `numpy` and `matplotlib`. It was originally intented to rpovide MATLAB users with the easiest possible access to numpy and matplotlib functions. It is now discouraged to use it."
   ]
  },
  {
   "cell_type": "code",
   "execution_count": null,
   "metadata": {},
   "outputs": [],
   "source": [
    "%matplotlib inline\n",
    "from pylab import *\n",
    "\n",
    "x = linspace(0, 5, 10)\n",
    "y = x**2\n",
    "\n",
    "plot(x, y, 'r')\n",
    "xlabel('x')\n",
    "ylabel('y')\n",
    "title('title')"
   ]
  },
  {
   "cell_type": "markdown",
   "metadata": {
    "collapsed": true
   },
   "source": [
    "## Images and simple 3D plots"
   ]
  },
  {
   "cell_type": "code",
   "execution_count": null,
   "metadata": {},
   "outputs": [],
   "source": [
    "import matplotlib.pyplot as plt\n",
    "import numpy as np\n",
    "\n",
    "# an image and contour plot of the function\n",
    "# z = f(x, y) = x**2 + y**2\n",
    "x = np.linspace(-2.0, 2.0, 50)\n",
    "y = np.linspace(-2.0, 2.0, 50)\n",
    "\n",
    "# The meshgrid function creates 2D-arrays with all\n",
    "# possible combinations of x and y:\n",
    "X, Y = np.meshgrid(x, y)\n",
    "\n",
    "Z = X**2 + Y**2\n",
    "\n",
    "plt.axes().set_aspect('equal')\n",
    "plt.imshow(Z, extent=(x.min(), x.max(), y.min(), y.max()))\n",
    "plt.colorbar()\n",
    "\n",
    "# start a new figure:\n",
    "plt.figure()\n",
    "plt.contour(X, Y, Z)\n",
    "plt.colorbar()\n",
    "plt.axes().set_aspect('equal')"
   ]
  },
  {
   "cell_type": "markdown",
   "metadata": {},
   "source": [
    "## Surface plots, curve plots etc."
   ]
  },
  {
   "cell_type": "markdown",
   "metadata": {},
   "source": [
    "Surface plots and many other, more advanced three-dimensional plots are of course possible; see for instance the [mplot3D Tutorial](http://matplotlib.org/mpl_toolkits/mplot3d/tutorial.html) for an overview. The [Mayavi module](http://docs.enthought.com/mayavi/mayavi/index.html) is an alternative for high-quality scientific 3D-plots."
   ]
  }
 ],
 "metadata": {
  "kernelspec": {
   "display_name": "Python 3",
   "language": "python",
   "name": "python3"
  },
  "language_info": {
   "codemirror_mode": {
    "name": "ipython",
    "version": 3
   },
   "file_extension": ".py",
   "mimetype": "text/x-python",
   "name": "python",
   "nbconvert_exporter": "python",
   "pygments_lexer": "ipython3",
   "version": "3.7.3"
  }
 },
 "nbformat": 4,
 "nbformat_minor": 1
}
