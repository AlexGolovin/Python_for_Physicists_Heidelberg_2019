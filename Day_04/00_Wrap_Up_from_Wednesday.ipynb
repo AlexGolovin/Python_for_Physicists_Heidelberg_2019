{
 "cells": [
  {
   "cell_type": "markdown",
   "metadata": {},
   "source": [
    "# Wrap-Up from Monday"
   ]
  },
  {
   "cell_type": "markdown",
   "metadata": {},
   "source": [
    "## Sample-solution to `dec2binary` - `binary2dec` problem\n",
    "The code is available [here](code/number_conversion.py)"
   ]
  },
  {
   "cell_type": "code",
   "execution_count": null,
   "metadata": {},
   "outputs": [],
   "source": [
    "%run code/number_conversion.py"
   ]
  },
  {
   "cell_type": "markdown",
   "metadata": {},
   "source": [
    "## Sample solution to the `word-doubling` problem and command-line arguments\n",
    "The code is available [here](code/double_words.py)"
   ]
  },
  {
   "cell_type": "code",
   "execution_count": null,
   "metadata": {},
   "outputs": [],
   "source": [
    "%run code/double_words.py data/double_words.txt"
   ]
  },
  {
   "cell_type": "markdown",
   "metadata": {},
   "source": [
    "The program uses *command line arguments*. Those are stored in a list of strings in the `sys.argv`-variable."
   ]
  },
  {
   "cell_type": "code",
   "execution_count": null,
   "metadata": {},
   "outputs": [],
   "source": [
    "%run code/command_line.py"
   ]
  },
  {
   "cell_type": "code",
   "execution_count": null,
   "metadata": {},
   "outputs": [],
   "source": [
    "# %load code/command_line.py\n",
    "# short demonstration script on command line arguments\n",
    "\n",
    "import sys\n",
    "\n",
    "# command line arguments are stored as strings in the 'sys.argv' list\n",
    "\n",
    "# The first argument contains the program name:\n",
    "print(\"program name: {}\".format(sys.argv[0]))\n",
    "\n",
    "if len(sys.argv) > 1:\n",
    "    print(\"You provided the following command line arguments:\")\n",
    "\n",
    "    for arg in sys.argv[1:]:\n",
    "        print(arg)\n"
   ]
  },
  {
   "cell_type": "markdown",
   "metadata": {},
   "source": [
    "**Note:** A very sophisticated module to treat command-line arguments is `argparse`."
   ]
  }
 ],
 "metadata": {
  "kernelspec": {
   "display_name": "Python 3",
   "language": "python",
   "name": "python3"
  },
  "language_info": {
   "codemirror_mode": {
    "name": "ipython",
    "version": 3
   },
   "file_extension": ".py",
   "mimetype": "text/x-python",
   "name": "python",
   "nbconvert_exporter": "python",
   "pygments_lexer": "ipython3",
   "version": "3.7.3"
  }
 },
 "nbformat": 4,
 "nbformat_minor": 2
}
