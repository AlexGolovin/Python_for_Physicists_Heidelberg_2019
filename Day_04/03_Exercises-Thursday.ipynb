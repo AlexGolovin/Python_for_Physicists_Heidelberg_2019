{
 "cells": [
  {
   "cell_type": "markdown",
   "metadata": {},
   "source": [
    "# Exercises - `numpy` and `matplotlib`"
   ]
  },
  {
   "cell_type": "markdown",
   "metadata": {},
   "source": [
    "## Integration"
   ]
  },
  {
   "cell_type": "markdown",
   "metadata": {},
   "source": [
    "We want to estimate the integrals\n",
    "$$\\int_0^{\\pi}\\sin(x)\\,{\\rm d}x = 2; \\qquad \\int_{-1}^2 x^3\\,{\\rm d}x=\\frac{15}{4}$$ .\n",
    "\n",
    "We will do the estimation in the easiest possible way with Riemann sums: Be $f(x)$ a continuous function on the interval $I=[a;b]$. Be $x_i$ with $a < x_0 < \\dots < x_n < b$ a decomposition of the interval $I$. With $\\Delta x_i=x_{i+1}-x_i; i\\in[0,n-1]$ and $f_{\\Delta_i}=f\\left(\\frac{x_i+x_{i+1}}2\\right)$ the integral can be approximated with\n",
    "$$\\int_a^bf(x)\\,{\\rm d}x\\approx \\sum_{i=0}^{n-1}\\Delta x_i\\cdot f_{\\Delta_i}$$.\n",
    "\n",
    "<img src=\"figs/sin_cubic.png\" style=\"width: 500px;\" style=\"height: 250px;\">\n"
   ]
  },
  {
   "cell_type": "markdown",
   "metadata": {},
   "source": [
    "- Implement the Riemann integration; Given numpy arrays with $x_i$ and corresponding function values, the calculations of $\\Delta x_i$, $f_{\\Delta_i}$ and the Riemann sum can be done with a single numpy-expression each.\n",
    "- Modify your program to estimate the indefinite integral\n",
    "  $$F(x)=\\int_0^x \\sin(y)\\,{\\rm d}y$$\n",
    "  in the interval $x\\in[0;\\pi]$ and plot $F(x)$.\n",
    "  \n",
    "  **Hint:** Have a look at the function `numpy.cumsum`."
   ]
  },
  {
   "cell_type": "code",
   "execution_count": null,
   "metadata": {},
   "outputs": [],
   "source": [
    "# your solution here"
   ]
  },
  {
   "cell_type": "markdown",
   "metadata": {},
   "source": [
    "## An estimate of $\\pi$"
   ]
  },
  {
   "cell_type": "markdown",
   "metadata": {},
   "source": [
    "Create two arrays `x` and `y` of 5000 random points with $0\\leq x < 1$ and $0\\leq y < 1$. Create a scatter plot\n",
    "of `x` and `y`. Plot points satisfying $x^2+y^2 <=1$ in one color and all others in another one. Plot also the circle segment separating the two samples. You should get a figure similar to that below. The fraction of the points with $x^2+y^2 <=1$ compared to the whole sample is an estimate for $\\pi/4$. What is your estimate for $\\pi$?\n",
    "\n",
    "  **Note:** In your plot, the aspect ratio of the `x` and `y`-axis is probably not equal and the circle segment looks more like an ellipse-segment. You can obtain a proper scaling between the axes with `plt.axes().set_aspect('equal')` just before you show the plot.\n",
    "  \n",
    "<img src=\"figs/pi.png\" style=\"width: 400px;\" style=\"height: 400px;\">  "
   ]
  },
  {
   "cell_type": "code",
   "execution_count": null,
   "metadata": {},
   "outputs": [],
   "source": [
    "# your solution here"
   ]
  },
  {
   "cell_type": "markdown",
   "metadata": {},
   "source": [
    "## Munich Temperatures"
   ]
  },
  {
   "cell_type": "markdown",
   "metadata": {},
   "source": [
    "The [data/munich_temperatures.txt](data/munich_temperatures.txt) data file gives the temperature in Munich every day for several years:"
   ]
  },
  {
   "cell_type": "code",
   "execution_count": null,
   "metadata": {},
   "outputs": [],
   "source": [
    "!head data/munich_temperatures.txt"
   ]
  },
  {
   "cell_type": "markdown",
   "metadata": {},
   "source": [
    "1. Read in the file using `np.loadtxt`. The data contains bad values, which you can identify with a quick, interactive plot according to (2.). Use masking to get rid of the bad temperature.\n",
    "2. plot the temperature against the year\n",
    "3. plot the temperatures against the fraction of the year (all years on top of each other). Note that you can use the % (modulo) operator to find the fractional part of the dates; see also the following cell)\n",
    "4. Calculate the following temperatures:\n",
    "  1. The mean temperature over all years and all months\n",
    "  2. The mean temperature in the months January until March\n",
    "  \n",
    "    **Note**: You can assume that January to March is *exactly* a quarter of a year and\n",
    "    you can neglect details such as leap years!\n",
    "  3. The minimum, maximum and average temperature for each year between 1995 and 2012 (the year 2013 has no complete\n",
    "    coverage). You can use a `for`-loop over the years for this part."
   ]
  },
  {
   "cell_type": "code",
   "execution_count": null,
   "metadata": {},
   "outputs": [],
   "source": [
    "# This cell reminds you on the '%'-operator to isolate the fractional\n",
    "# part of float numbers.\n",
    "# This should be very useful for task 3 above\n",
    "import numpy.random as nr\n",
    "\n",
    "# ten random numbers between 0 and 10\n",
    "a = nr.random(10) * 10\n",
    "print(a)\n",
    "# isolate the fractional parts of the numbers\n",
    "b = a % 1\n",
    "print(b)"
   ]
  },
  {
   "cell_type": "code",
   "execution_count": null,
   "metadata": {},
   "outputs": [],
   "source": [
    "# your solution here"
   ]
  }
 ],
 "metadata": {
  "kernelspec": {
   "display_name": "Python 3",
   "language": "python",
   "name": "python3"
  },
  "language_info": {
   "codemirror_mode": {
    "name": "ipython",
    "version": 3
   },
   "file_extension": ".py",
   "mimetype": "text/x-python",
   "name": "python",
   "nbconvert_exporter": "python",
   "pygments_lexer": "ipython3",
   "version": "3.7.3"
  }
 },
 "nbformat": 4,
 "nbformat_minor": 1
}
